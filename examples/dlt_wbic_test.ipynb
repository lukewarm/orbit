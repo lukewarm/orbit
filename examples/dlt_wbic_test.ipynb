{
 "cells": [
  {
   "cell_type": "markdown",
   "id": "b1a5b7d5",
   "metadata": {},
   "source": [
    "# Model Selection with WBIC"
   ]
  },
  {
   "cell_type": "code",
   "execution_count": 1,
   "id": "95d5a002",
   "metadata": {},
   "outputs": [],
   "source": [
    "from datetime import timedelta\n",
    "\n",
    "import pandas as pd\n",
    "import numpy as np\n",
    "\n",
    "import matplotlib.pyplot as plt\n",
    "%matplotlib inline\n",
    "\n",
    "import orbit\n",
    "from orbit.models import DLT\n",
    "from orbit.utils.simulation import make_trend, make_regression"
   ]
  },
  {
   "cell_type": "markdown",
   "id": "ff376c50",
   "metadata": {},
   "source": [
    "Generate a regression problem with trend with `8` number of regressors where only `3` of them are effective. First, generate the `3` effective regressors."
   ]
  },
  {
   "cell_type": "code",
   "execution_count": 2,
   "id": "af05537e",
   "metadata": {},
   "outputs": [
    {
     "name": "stdout",
     "output_type": "stream",
     "text": [
      "(100,) (100, 3)\n"
     ]
    }
   ],
   "source": [
    "NUM_OF_REGRESSORS = 8\n",
    "NUM_OF_EFFECTIVE_REGRESSORS = 3\n",
    "SERIES_LEN = 100\n",
    "SEED = 20210101\n",
    "# sample some coefficients\n",
    "COEFS = np.random.default_rng(SEED).uniform(-1, 1, NUM_OF_EFFECTIVE_REGRESSORS)\n",
    "trend = make_trend(SERIES_LEN, rw_loc=0.01, rw_scale=0.1)\n",
    "x, regression, coefs = make_regression(series_len=SERIES_LEN, coefs=COEFS)\n",
    "print(regression.shape, x.shape)\n",
    "\n",
    "# combine trend and the regression\n",
    "y = trend + regression"
   ]
  },
  {
   "cell_type": "markdown",
   "id": "c248509c",
   "metadata": {},
   "source": [
    "We can add `5` irrelevant regressors into the dataset to add challenge in selecting the best model."
   ]
  },
  {
   "cell_type": "code",
   "execution_count": 3,
   "id": "ac863f4c",
   "metadata": {},
   "outputs": [
    {
     "name": "stdout",
     "output_type": "stream",
     "text": [
      "(100, 8)\n"
     ]
    }
   ],
   "source": [
    "x_extra = np.random.normal(0, 1, (SERIES_LEN, NUM_OF_REGRESSORS - NUM_OF_EFFECTIVE_REGRESSORS))\n",
    "x = np.concatenate([x, x_extra], axis=-1)\n",
    "print(x.shape)"
   ]
  },
  {
   "cell_type": "code",
   "execution_count": 4,
   "id": "ba0c5bf1",
   "metadata": {},
   "outputs": [
    {
     "data": {
      "text/plain": [
       "(100, 10)"
      ]
     },
     "execution_count": 4,
     "metadata": {},
     "output_type": "execute_result"
    }
   ],
   "source": [
    "x_cols = [f\"x{x}\" for x in range(1, NUM_OF_REGRESSORS + 1)]\n",
    "response_col = \"y\"\n",
    "dt_col = \"date\"\n",
    "obs_matrix = np.concatenate([y.reshape(-1, 1), x], axis=1)\n",
    "# make a data frame for orbit inputs\n",
    "df = pd.DataFrame(obs_matrix, columns=[response_col] + x_cols)\n",
    "# make some dummy date stamp\n",
    "dt = pd.date_range(start='2016-01-04', periods=SERIES_LEN, freq=\"1W\")\n",
    "df['date'] = dt\n",
    "df.shape"
   ]
  },
  {
   "cell_type": "code",
   "execution_count": 5,
   "id": "76443870",
   "metadata": {},
   "outputs": [
    {
     "data": {
      "text/html": [
       "<div>\n",
       "<style scoped>\n",
       "    .dataframe tbody tr th:only-of-type {\n",
       "        vertical-align: middle;\n",
       "    }\n",
       "\n",
       "    .dataframe tbody tr th {\n",
       "        vertical-align: top;\n",
       "    }\n",
       "\n",
       "    .dataframe thead th {\n",
       "        text-align: right;\n",
       "    }\n",
       "</style>\n",
       "<table border=\"1\" class=\"dataframe\">\n",
       "  <thead>\n",
       "    <tr style=\"text-align: right;\">\n",
       "      <th></th>\n",
       "      <th>y</th>\n",
       "      <th>x1</th>\n",
       "      <th>x2</th>\n",
       "      <th>x3</th>\n",
       "      <th>x4</th>\n",
       "      <th>x5</th>\n",
       "      <th>x6</th>\n",
       "      <th>x7</th>\n",
       "      <th>x8</th>\n",
       "      <th>date</th>\n",
       "    </tr>\n",
       "  </thead>\n",
       "  <tbody>\n",
       "    <tr>\n",
       "      <th>0</th>\n",
       "      <td>0.545741</td>\n",
       "      <td>0.172792</td>\n",
       "      <td>0.000000</td>\n",
       "      <td>0.165219</td>\n",
       "      <td>1.227086</td>\n",
       "      <td>0.228790</td>\n",
       "      <td>-0.790759</td>\n",
       "      <td>-0.175071</td>\n",
       "      <td>-1.443387</td>\n",
       "      <td>2016-01-10</td>\n",
       "    </tr>\n",
       "    <tr>\n",
       "      <th>1</th>\n",
       "      <td>0.983519</td>\n",
       "      <td>-0.000000</td>\n",
       "      <td>0.452678</td>\n",
       "      <td>0.223187</td>\n",
       "      <td>-0.010755</td>\n",
       "      <td>0.932558</td>\n",
       "      <td>-1.245910</td>\n",
       "      <td>-0.263284</td>\n",
       "      <td>0.981820</td>\n",
       "      <td>2016-01-17</td>\n",
       "    </tr>\n",
       "    <tr>\n",
       "      <th>2</th>\n",
       "      <td>0.547457</td>\n",
       "      <td>-0.000000</td>\n",
       "      <td>0.290559</td>\n",
       "      <td>0.182286</td>\n",
       "      <td>-0.287540</td>\n",
       "      <td>1.708722</td>\n",
       "      <td>-3.212286</td>\n",
       "      <td>-1.168048</td>\n",
       "      <td>-1.044295</td>\n",
       "      <td>2016-01-24</td>\n",
       "    </tr>\n",
       "    <tr>\n",
       "      <th>3</th>\n",
       "      <td>-1.042535</td>\n",
       "      <td>0.147066</td>\n",
       "      <td>0.014211</td>\n",
       "      <td>0.273356</td>\n",
       "      <td>-0.344666</td>\n",
       "      <td>1.116903</td>\n",
       "      <td>-0.144973</td>\n",
       "      <td>-0.752501</td>\n",
       "      <td>0.606348</td>\n",
       "      <td>2016-01-31</td>\n",
       "    </tr>\n",
       "    <tr>\n",
       "      <th>4</th>\n",
       "      <td>0.810933</td>\n",
       "      <td>-0.368227</td>\n",
       "      <td>-0.081455</td>\n",
       "      <td>-0.241060</td>\n",
       "      <td>-0.224368</td>\n",
       "      <td>0.668931</td>\n",
       "      <td>0.885807</td>\n",
       "      <td>0.495612</td>\n",
       "      <td>1.909877</td>\n",
       "      <td>2016-02-07</td>\n",
       "    </tr>\n",
       "    <tr>\n",
       "      <th>...</th>\n",
       "      <td>...</td>\n",
       "      <td>...</td>\n",
       "      <td>...</td>\n",
       "      <td>...</td>\n",
       "      <td>...</td>\n",
       "      <td>...</td>\n",
       "      <td>...</td>\n",
       "      <td>...</td>\n",
       "      <td>...</td>\n",
       "      <td>...</td>\n",
       "    </tr>\n",
       "    <tr>\n",
       "      <th>95</th>\n",
       "      <td>-1.928167</td>\n",
       "      <td>0.000000</td>\n",
       "      <td>0.099649</td>\n",
       "      <td>-0.000000</td>\n",
       "      <td>1.124534</td>\n",
       "      <td>-0.048188</td>\n",
       "      <td>0.682545</td>\n",
       "      <td>-0.940672</td>\n",
       "      <td>-1.200705</td>\n",
       "      <td>2017-11-05</td>\n",
       "    </tr>\n",
       "    <tr>\n",
       "      <th>96</th>\n",
       "      <td>-0.278697</td>\n",
       "      <td>-0.696051</td>\n",
       "      <td>-0.112803</td>\n",
       "      <td>-0.437711</td>\n",
       "      <td>0.644461</td>\n",
       "      <td>-1.156173</td>\n",
       "      <td>-0.605925</td>\n",
       "      <td>0.234099</td>\n",
       "      <td>0.012734</td>\n",
       "      <td>2017-11-12</td>\n",
       "    </tr>\n",
       "    <tr>\n",
       "      <th>97</th>\n",
       "      <td>0.563077</td>\n",
       "      <td>0.500705</td>\n",
       "      <td>0.072043</td>\n",
       "      <td>0.000000</td>\n",
       "      <td>0.594366</td>\n",
       "      <td>-1.330007</td>\n",
       "      <td>-1.438340</td>\n",
       "      <td>-0.415959</td>\n",
       "      <td>-0.685047</td>\n",
       "      <td>2017-11-19</td>\n",
       "    </tr>\n",
       "    <tr>\n",
       "      <th>98</th>\n",
       "      <td>-1.390511</td>\n",
       "      <td>0.067311</td>\n",
       "      <td>0.000000</td>\n",
       "      <td>-0.391499</td>\n",
       "      <td>-1.460902</td>\n",
       "      <td>-0.004252</td>\n",
       "      <td>0.067180</td>\n",
       "      <td>0.946157</td>\n",
       "      <td>-0.575613</td>\n",
       "      <td>2017-11-26</td>\n",
       "    </tr>\n",
       "    <tr>\n",
       "      <th>99</th>\n",
       "      <td>0.453037</td>\n",
       "      <td>0.334024</td>\n",
       "      <td>0.892349</td>\n",
       "      <td>-0.154844</td>\n",
       "      <td>1.393251</td>\n",
       "      <td>0.135886</td>\n",
       "      <td>1.697173</td>\n",
       "      <td>1.072437</td>\n",
       "      <td>-1.855551</td>\n",
       "      <td>2017-12-03</td>\n",
       "    </tr>\n",
       "  </tbody>\n",
       "</table>\n",
       "<p>100 rows × 10 columns</p>\n",
       "</div>"
      ],
      "text/plain": [
       "           y        x1        x2        x3        x4        x5        x6  \\\n",
       "0   0.545741  0.172792  0.000000  0.165219  1.227086  0.228790 -0.790759   \n",
       "1   0.983519 -0.000000  0.452678  0.223187 -0.010755  0.932558 -1.245910   \n",
       "2   0.547457 -0.000000  0.290559  0.182286 -0.287540  1.708722 -3.212286   \n",
       "3  -1.042535  0.147066  0.014211  0.273356 -0.344666  1.116903 -0.144973   \n",
       "4   0.810933 -0.368227 -0.081455 -0.241060 -0.224368  0.668931  0.885807   \n",
       "..       ...       ...       ...       ...       ...       ...       ...   \n",
       "95 -1.928167  0.000000  0.099649 -0.000000  1.124534 -0.048188  0.682545   \n",
       "96 -0.278697 -0.696051 -0.112803 -0.437711  0.644461 -1.156173 -0.605925   \n",
       "97  0.563077  0.500705  0.072043  0.000000  0.594366 -1.330007 -1.438340   \n",
       "98 -1.390511  0.067311  0.000000 -0.391499 -1.460902 -0.004252  0.067180   \n",
       "99  0.453037  0.334024  0.892349 -0.154844  1.393251  0.135886  1.697173   \n",
       "\n",
       "          x7        x8       date  \n",
       "0  -0.175071 -1.443387 2016-01-10  \n",
       "1  -0.263284  0.981820 2016-01-17  \n",
       "2  -1.168048 -1.044295 2016-01-24  \n",
       "3  -0.752501  0.606348 2016-01-31  \n",
       "4   0.495612  1.909877 2016-02-07  \n",
       "..       ...       ...        ...  \n",
       "95 -0.940672 -1.200705 2017-11-05  \n",
       "96  0.234099  0.012734 2017-11-12  \n",
       "97 -0.415959 -0.685047 2017-11-19  \n",
       "98  0.946157 -0.575613 2017-11-26  \n",
       "99  1.072437 -1.855551 2017-12-03  \n",
       "\n",
       "[100 rows x 10 columns]"
      ]
     },
     "execution_count": 5,
     "metadata": {},
     "output_type": "execute_result"
    }
   ],
   "source": [
    "df"
   ]
  },
  {
   "cell_type": "markdown",
   "id": "e0a2dbc2",
   "metadata": {},
   "source": [
    "Now, we can calculate WBIC and compare them across models."
   ]
  },
  {
   "cell_type": "code",
   "execution_count": 6,
   "id": "7ce4241e",
   "metadata": {},
   "outputs": [
    {
     "name": "stderr",
     "output_type": "stream",
     "text": [
      "WARNING:pystan:n_eff / iter below 0.001 indicates that the effective sample size has likely been overestimated\n",
      "WARNING:pystan:Rhat above 1.1 or below 0.9 indicates that the chains very likely have not mixed\n",
      "WARNING:pystan:n_eff / iter below 0.001 indicates that the effective sample size has likely been overestimated\n",
      "WARNING:pystan:Rhat above 1.1 or below 0.9 indicates that the chains very likely have not mixed\n"
     ]
    },
    {
     "name": "stdout",
     "output_type": "stream",
     "text": [
      "Regressors:['x1'] WBIC:3.30243\n"
     ]
    },
    {
     "name": "stderr",
     "output_type": "stream",
     "text": [
      "WARNING:pystan:n_eff / iter below 0.001 indicates that the effective sample size has likely been overestimated\n",
      "WARNING:pystan:Rhat above 1.1 or below 0.9 indicates that the chains very likely have not mixed\n",
      "WARNING:pystan:n_eff / iter below 0.001 indicates that the effective sample size has likely been overestimated\n",
      "WARNING:pystan:Rhat above 1.1 or below 0.9 indicates that the chains very likely have not mixed\n"
     ]
    },
    {
     "name": "stdout",
     "output_type": "stream",
     "text": [
      "Regressors:['x1', 'x2'] WBIC:3.32213\n"
     ]
    },
    {
     "name": "stderr",
     "output_type": "stream",
     "text": [
      "WARNING:pystan:n_eff / iter below 0.001 indicates that the effective sample size has likely been overestimated\n",
      "WARNING:pystan:Rhat above 1.1 or below 0.9 indicates that the chains very likely have not mixed\n",
      "WARNING:pystan:n_eff / iter below 0.001 indicates that the effective sample size has likely been overestimated\n",
      "WARNING:pystan:Rhat above 1.1 or below 0.9 indicates that the chains very likely have not mixed\n"
     ]
    },
    {
     "name": "stdout",
     "output_type": "stream",
     "text": [
      "Regressors:['x1', 'x2', 'x3'] WBIC:3.28619\n"
     ]
    },
    {
     "name": "stderr",
     "output_type": "stream",
     "text": [
      "WARNING:pystan:n_eff / iter below 0.001 indicates that the effective sample size has likely been overestimated\n",
      "WARNING:pystan:Rhat above 1.1 or below 0.9 indicates that the chains very likely have not mixed\n",
      "WARNING:pystan:n_eff / iter below 0.001 indicates that the effective sample size has likely been overestimated\n",
      "WARNING:pystan:Rhat above 1.1 or below 0.9 indicates that the chains very likely have not mixed\n"
     ]
    },
    {
     "name": "stdout",
     "output_type": "stream",
     "text": [
      "Regressors:['x1', 'x2', 'x3', 'x4'] WBIC:3.29544\n"
     ]
    },
    {
     "name": "stderr",
     "output_type": "stream",
     "text": [
      "WARNING:pystan:n_eff / iter below 0.001 indicates that the effective sample size has likely been overestimated\n",
      "WARNING:pystan:Rhat above 1.1 or below 0.9 indicates that the chains very likely have not mixed\n",
      "WARNING:pystan:n_eff / iter below 0.001 indicates that the effective sample size has likely been overestimated\n",
      "WARNING:pystan:Rhat above 1.1 or below 0.9 indicates that the chains very likely have not mixed\n"
     ]
    },
    {
     "name": "stdout",
     "output_type": "stream",
     "text": [
      "Regressors:['x1', 'x2', 'x3', 'x4', 'x5'] WBIC:3.34317\n"
     ]
    },
    {
     "name": "stderr",
     "output_type": "stream",
     "text": [
      "WARNING:pystan:n_eff / iter below 0.001 indicates that the effective sample size has likely been overestimated\n",
      "WARNING:pystan:Rhat above 1.1 or below 0.9 indicates that the chains very likely have not mixed\n",
      "WARNING:pystan:n_eff / iter below 0.001 indicates that the effective sample size has likely been overestimated\n",
      "WARNING:pystan:Rhat above 1.1 or below 0.9 indicates that the chains very likely have not mixed\n"
     ]
    },
    {
     "name": "stdout",
     "output_type": "stream",
     "text": [
      "Regressors:['x1', 'x2', 'x3', 'x4', 'x5', 'x6'] WBIC:3.38635\n"
     ]
    },
    {
     "name": "stderr",
     "output_type": "stream",
     "text": [
      "WARNING:pystan:n_eff / iter below 0.001 indicates that the effective sample size has likely been overestimated\n",
      "WARNING:pystan:Rhat above 1.1 or below 0.9 indicates that the chains very likely have not mixed\n",
      "WARNING:pystan:n_eff / iter below 0.001 indicates that the effective sample size has likely been overestimated\n",
      "WARNING:pystan:Rhat above 1.1 or below 0.9 indicates that the chains very likely have not mixed\n"
     ]
    },
    {
     "name": "stdout",
     "output_type": "stream",
     "text": [
      "Regressors:['x1', 'x2', 'x3', 'x4', 'x5', 'x6', 'x7'] WBIC:3.42989\n"
     ]
    },
    {
     "name": "stderr",
     "output_type": "stream",
     "text": [
      "WARNING:pystan:n_eff / iter below 0.001 indicates that the effective sample size has likely been overestimated\n",
      "WARNING:pystan:Rhat above 1.1 or below 0.9 indicates that the chains very likely have not mixed\n",
      "WARNING:pystan:n_eff / iter below 0.001 indicates that the effective sample size has likely been overestimated\n",
      "WARNING:pystan:Rhat above 1.1 or below 0.9 indicates that the chains very likely have not mixed\n"
     ]
    },
    {
     "name": "stdout",
     "output_type": "stream",
     "text": [
      "Regressors:['x1', 'x2', 'x3', 'x4', 'x5', 'x6', 'x7', 'x8'] WBIC:3.45579\n",
      "CPU times: user 3.69 s, sys: 1.81 s, total: 5.5 s\n",
      "Wall time: 1min 25s\n"
     ]
    }
   ],
   "source": [
    "%%time\n",
    "wbics = np.empty(NUM_OF_REGRESSORS)\n",
    "\n",
    "for idx in range(NUM_OF_REGRESSORS):\n",
    "    regressor_col = x_cols[:idx + 1]\n",
    "\n",
    "    dlt = DLT(\n",
    "        response_col=response_col,\n",
    "        date_col=dt_col,\n",
    "        regressor_col=regressor_col,\n",
    "        seed=2020,\n",
    "        # fixing the smoothing parameters to learn regression coefficients more effectively\n",
    "        level_sm_input=0.01,\n",
    "        slope_sm_input=0.01,\n",
    "        num_warmup=4000,\n",
    "        num_sample=4000,\n",
    "    )\n",
    "    dlt.fit(df=df)\n",
    "    wbic = dlt.get_training_metrics()['WBIC']\n",
    "    print('Regressors:{} WBIC:{:.5f}'.format(regressor_col, wbic))\n",
    "    wbics[idx] = wbic"
   ]
  },
  {
   "cell_type": "markdown",
   "id": "dba4f5bd",
   "metadata": {},
   "source": [
    "We plot the chart with WBICs against number of regressors included.  As we can see, WBIC is lowest when regressors overlapped exactly with the truth."
   ]
  },
  {
   "cell_type": "code",
   "execution_count": 12,
   "id": "e06c15a2",
   "metadata": {},
   "outputs": [
    {
     "data": {
      "text/plain": [
       "<matplotlib.legend.Legend at 0x14db14f50>"
      ]
     },
     "execution_count": 12,
     "metadata": {},
     "output_type": "execute_result"
    },
    {
     "data": {
      "image/png": "[encoded data removed]",
      "text/plain": [
       "<Figure size 1152x576 with 1 Axes>"
      ]
     },
     "metadata": {
      "needs_background": "light"
     },
     "output_type": "display_data"
    }
   ],
   "source": [
    "fig, ax = plt.subplots(1, 1, figsize=(16, 8))\n",
    "ax.plot(np.arange(1, NUM_OF_REGRESSORS + 1), wbics, color='dodgerblue', label='WBICs')\n",
    "ax.axvline(x=3, linestyle='--', color='orange', label='truth')\n",
    "ax.set_xlabel('Number of Regressors')\n",
    "ax.set_ylabel('WBIC')\n",
    "ax.set_title('Model Selection with WBIC')\n",
    "fig.legend()"
   ]
  }
 ],
 "metadata": {
  "kernelspec": {
   "display_name": "Python 3",
   "language": "python",
   "name": "python3"
  },
  "language_info": {
   "codemirror_mode": {
    "name": "ipython",
    "version": 3
   },
   "file_extension": ".py",
   "mimetype": "text/x-python",
   "name": "python",
   "nbconvert_exporter": "python",
   "pygments_lexer": "ipython3",
   "version": "3.7.8"
  },
  "toc": {
   "base_numbering": 1,
   "nav_menu": {},
   "number_sections": true,
   "sideBar": true,
   "skip_h1_title": false,
   "title_cell": "Table of Contents",
   "title_sidebar": "Contents",
   "toc_cell": false,
   "toc_position": {},
   "toc_section_display": true,
   "toc_window_display": false
  }
 },
 "nbformat": 4,
 "nbformat_minor": 5
}
